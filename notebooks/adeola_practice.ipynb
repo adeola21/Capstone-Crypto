{
 "cells": [
  {
   "cell_type": "code",
   "execution_count": 5,
   "id": "004ef3ff-ad54-45b4-8ad7-fd2b72ef565e",
   "metadata": {
    "tags": []
   },
   "outputs": [],
   "source": [
    "import mwclient\n",
    "import time\n",
    "\n",
    "site = mwclient.Site(\"en.wikipedia.org\")\n",
    "page = site.pages[\"Bitcoin\"]"
   ]
  },
  {
   "cell_type": "code",
   "execution_count": 6,
   "id": "fa36a1b9-a984-40bc-bb89-7be6a40b24c0",
   "metadata": {
    "tags": []
   },
   "outputs": [],
   "source": [
    "revs = list(page.revisions())"
   ]
  },
  {
   "cell_type": "code",
   "execution_count": 7,
   "id": "8f1d33a5-67f6-4adc-9f56-9d7cb3efe687",
   "metadata": {
    "tags": []
   },
   "outputs": [
    {
     "data": {
      "text/plain": [
       "OrderedDict([('revid', 1218472350),\n",
       "             ('parentid', 1218461670),\n",
       "             ('user', 'Grayfell'),\n",
       "             ('timestamp',\n",
       "              time.struct_time(tm_year=2024, tm_mon=4, tm_mday=11, tm_hour=22, tm_min=15, tm_sec=31, tm_wday=3, tm_yday=102, tm_isdst=-1)),\n",
       "             ('comment',\n",
       "              'Undid revision [[Special:Diff/1218461670|1218461670]] by [[Special:Contributions/Gjb0zWxOb|Gjb0zWxOb]] ([[User talk:Gjb0zWxOb|talk]]) [[WP:FORBESCON]]')])"
      ]
     },
     "execution_count": 7,
     "metadata": {},
     "output_type": "execute_result"
    }
   ],
   "source": [
    "revs[0]"
   ]
  },
  {
   "cell_type": "code",
   "execution_count": 12,
   "id": "0ec82dd6-14f3-4458-8a85-aa994c1219e3",
   "metadata": {
    "tags": []
   },
   "outputs": [],
   "source": [
    "revs = sorted(revs, key=lambda rev: rev[\"timestamp\"])"
   ]
  },
  {
   "cell_type": "code",
   "execution_count": 13,
   "id": "7acfe5f1-05ac-46ba-a73d-36838840e8ce",
   "metadata": {
    "tags": []
   },
   "outputs": [
    {
     "data": {
      "text/plain": [
       "OrderedDict([('revid', 275832581),\n",
       "             ('parentid', 0),\n",
       "             ('user', 'Pratyeka'),\n",
       "             ('timestamp',\n",
       "              time.struct_time(tm_year=2009, tm_mon=3, tm_mday=8, tm_hour=16, tm_min=41, tm_sec=7, tm_wday=6, tm_yday=67, tm_isdst=-1)),\n",
       "             ('comment', 'creation (stub)')])"
      ]
     },
     "execution_count": 13,
     "metadata": {},
     "output_type": "execute_result"
    }
   ],
   "source": [
    "revs[0]"
   ]
  },
  {
   "cell_type": "code",
   "execution_count": 14,
   "id": "80c70f9c-a8ce-4461-9181-18f49c162c77",
   "metadata": {
    "tags": []
   },
   "outputs": [
    {
     "ename": "ModuleNotFoundError",
     "evalue": "No module named 'transformers'",
     "output_type": "error",
     "traceback": [
      "\u001b[1;31m---------------------------------------------------------------------------\u001b[0m",
      "\u001b[1;31mModuleNotFoundError\u001b[0m                       Traceback (most recent call last)",
      "Cell \u001b[1;32mIn[14], line 1\u001b[0m\n\u001b[1;32m----> 1\u001b[0m \u001b[38;5;28;01mfrom\u001b[39;00m \u001b[38;5;21;01mtransformers\u001b[39;00m \u001b[38;5;28;01mimport\u001b[39;00m pipeline\n\u001b[0;32m      2\u001b[0m sentiment_pipeline \u001b[38;5;241m=\u001b[39m pipeline(\u001b[38;5;124m\"\u001b[39m\u001b[38;5;124msentiment-analysis\u001b[39m\u001b[38;5;124m\"\u001b[39m)\n",
      "\u001b[1;31mModuleNotFoundError\u001b[0m: No module named 'transformers'"
     ]
    }
   ],
   "source": [
    "from transformers import pipeline\n",
    "sentiment_pipeline = pipeline(\"sentiment-analysis\")"
   ]
  },
  {
   "cell_type": "code",
   "execution_count": null,
   "id": "98c46371-2e7b-49cb-ac91-0b55e3917730",
   "metadata": {},
   "outputs": [],
   "source": []
  }
 ],
 "metadata": {
  "kernelspec": {
   "display_name": "Python 3 (ipykernel)",
   "language": "python",
   "name": "python3"
  },
  "language_info": {
   "codemirror_mode": {
    "name": "ipython",
    "version": 3
   },
   "file_extension": ".py",
   "mimetype": "text/x-python",
   "name": "python",
   "nbconvert_exporter": "python",
   "pygments_lexer": "ipython3",
   "version": "3.11.3"
  }
 },
 "nbformat": 4,
 "nbformat_minor": 5
}
