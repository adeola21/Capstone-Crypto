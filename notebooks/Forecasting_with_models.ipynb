{
 "cells": [
  {
   "cell_type": "code",
   "execution_count": 1,
   "id": "1e00ea9f-1238-4118-a3ba-8bd67a492340",
   "metadata": {
    "tags": []
   },
   "outputs": [],
   "source": [
    "import pandas as pd\n",
    "from sklearn.ensemble import RandomForestClassifier\n",
    "from sklearn.metrics import precision_score\n",
    "from sklearn.metrics import accuracy_score"
   ]
  },
  {
   "cell_type": "code",
   "execution_count": 2,
   "id": "7abe0d86-e53c-45f6-b25a-0599a5d01623",
   "metadata": {
    "tags": []
   },
   "outputs": [],
   "source": [
    "# Read in required dataframes\n",
    "btc = pd.read_csv(\"btc_data_for_modelling.csv\", index_col=0, parse_dates=True)\n",
    "btc_FGI = pd.read_csv(\"btc_data_withFGI.csv\", index_col=0, parse_dates=True)"
   ]
  },
  {
   "cell_type": "code",
   "execution_count": 3,
   "id": "6069598d-c380-49f1-b3ee-44413346b05e",
   "metadata": {
    "tags": []
   },
   "outputs": [
    {
     "data": {
      "text/html": [
       "<div>\n",
       "<style scoped>\n",
       "    .dataframe tbody tr th:only-of-type {\n",
       "        vertical-align: middle;\n",
       "    }\n",
       "\n",
       "    .dataframe tbody tr th {\n",
       "        vertical-align: top;\n",
       "    }\n",
       "\n",
       "    .dataframe thead th {\n",
       "        text-align: right;\n",
       "    }\n",
       "</style>\n",
       "<table border=\"1\" class=\"dataframe\">\n",
       "  <thead>\n",
       "    <tr style=\"text-align: right;\">\n",
       "      <th></th>\n",
       "      <th>open</th>\n",
       "      <th>high</th>\n",
       "      <th>low</th>\n",
       "      <th>close</th>\n",
       "      <th>volume</th>\n",
       "      <th>edit_count</th>\n",
       "      <th>sentiment</th>\n",
       "      <th>neg_sentiment</th>\n",
       "      <th>tomorrow</th>\n",
       "      <th>target</th>\n",
       "      <th>...</th>\n",
       "      <th>Tenkan-sen</th>\n",
       "      <th>Kijun-sen</th>\n",
       "      <th>Senkou Span A</th>\n",
       "      <th>Senkou Span B</th>\n",
       "      <th>Middle Band</th>\n",
       "      <th>Upper Band</th>\n",
       "      <th>Lower Band</th>\n",
       "      <th>OBV</th>\n",
       "      <th>FGI_value</th>\n",
       "      <th>value_classification</th>\n",
       "    </tr>\n",
       "  </thead>\n",
       "  <tbody>\n",
       "    <tr>\n",
       "      <th>2018-02-01</th>\n",
       "      <td>10237.299805</td>\n",
       "      <td>10288.799805</td>\n",
       "      <td>8812.280273</td>\n",
       "      <td>9170.540039</td>\n",
       "      <td>9959400448</td>\n",
       "      <td>6.233333</td>\n",
       "      <td>-0.382591</td>\n",
       "      <td>0.590601</td>\n",
       "      <td>8830.750000</td>\n",
       "      <td>0</td>\n",
       "      <td>...</td>\n",
       "      <td>10426.290039</td>\n",
       "      <td>13195.939941</td>\n",
       "      <td>15496.125000</td>\n",
       "      <td>13632.790039</td>\n",
       "      <td>11591.202100</td>\n",
       "      <td>14132.400116</td>\n",
       "      <td>9050.004084</td>\n",
       "      <td>1.237985e+11</td>\n",
       "      <td>30</td>\n",
       "      <td>Fear</td>\n",
       "    </tr>\n",
       "    <tr>\n",
       "      <th>2018-02-02</th>\n",
       "      <td>9142.280273</td>\n",
       "      <td>9142.280273</td>\n",
       "      <td>7796.490234</td>\n",
       "      <td>8830.750000</td>\n",
       "      <td>12726899712</td>\n",
       "      <td>5.566667</td>\n",
       "      <td>-0.406722</td>\n",
       "      <td>0.601712</td>\n",
       "      <td>9174.910156</td>\n",
       "      <td>1</td>\n",
       "      <td>...</td>\n",
       "      <td>9918.395020</td>\n",
       "      <td>12167.195312</td>\n",
       "      <td>15496.125000</td>\n",
       "      <td>13776.219971</td>\n",
       "      <td>11314.729590</td>\n",
       "      <td>13789.784903</td>\n",
       "      <td>8839.674277</td>\n",
       "      <td>1.110716e+11</td>\n",
       "      <td>15</td>\n",
       "      <td>Extreme Fear</td>\n",
       "    </tr>\n",
       "    <tr>\n",
       "      <th>2018-02-03</th>\n",
       "      <td>8852.120117</td>\n",
       "      <td>9430.750000</td>\n",
       "      <td>8251.629883</td>\n",
       "      <td>9174.910156</td>\n",
       "      <td>7263790080</td>\n",
       "      <td>5.266667</td>\n",
       "      <td>-0.397372</td>\n",
       "      <td>0.597167</td>\n",
       "      <td>8277.009766</td>\n",
       "      <td>0</td>\n",
       "      <td>...</td>\n",
       "      <td>9918.395020</td>\n",
       "      <td>11646.995117</td>\n",
       "      <td>15597.500000</td>\n",
       "      <td>13776.219971</td>\n",
       "      <td>11084.875098</td>\n",
       "      <td>13450.506510</td>\n",
       "      <td>8719.243685</td>\n",
       "      <td>1.183354e+11</td>\n",
       "      <td>40</td>\n",
       "      <td>Fear</td>\n",
       "    </tr>\n",
       "    <tr>\n",
       "      <th>2018-02-04</th>\n",
       "      <td>9175.700195</td>\n",
       "      <td>9334.870117</td>\n",
       "      <td>8031.220215</td>\n",
       "      <td>8277.009766</td>\n",
       "      <td>7073549824</td>\n",
       "      <td>4.733333</td>\n",
       "      <td>-0.385527</td>\n",
       "      <td>0.592116</td>\n",
       "      <td>6955.270020</td>\n",
       "      <td>0</td>\n",
       "      <td>...</td>\n",
       "      <td>9918.395020</td>\n",
       "      <td>11407.645020</td>\n",
       "      <td>15697.275146</td>\n",
       "      <td>13891.550049</td>\n",
       "      <td>10807.735596</td>\n",
       "      <td>13122.456240</td>\n",
       "      <td>8493.014951</td>\n",
       "      <td>1.112618e+11</td>\n",
       "      <td>24</td>\n",
       "      <td>Extreme Fear</td>\n",
       "    </tr>\n",
       "    <tr>\n",
       "      <th>2018-02-05</th>\n",
       "      <td>8270.540039</td>\n",
       "      <td>8364.839844</td>\n",
       "      <td>6756.680176</td>\n",
       "      <td>6955.270020</td>\n",
       "      <td>9285289984</td>\n",
       "      <td>4.700000</td>\n",
       "      <td>-0.385761</td>\n",
       "      <td>0.592116</td>\n",
       "      <td>7754.000000</td>\n",
       "      <td>1</td>\n",
       "      <td>...</td>\n",
       "      <td>9398.489990</td>\n",
       "      <td>10887.739990</td>\n",
       "      <td>15699.500000</td>\n",
       "      <td>13925.854980</td>\n",
       "      <td>10580.974097</td>\n",
       "      <td>13438.911654</td>\n",
       "      <td>7723.036539</td>\n",
       "      <td>1.019765e+11</td>\n",
       "      <td>11</td>\n",
       "      <td>Extreme Fear</td>\n",
       "    </tr>\n",
       "    <tr>\n",
       "      <th>...</th>\n",
       "      <td>...</td>\n",
       "      <td>...</td>\n",
       "      <td>...</td>\n",
       "      <td>...</td>\n",
       "      <td>...</td>\n",
       "      <td>...</td>\n",
       "      <td>...</td>\n",
       "      <td>...</td>\n",
       "      <td>...</td>\n",
       "      <td>...</td>\n",
       "      <td>...</td>\n",
       "      <td>...</td>\n",
       "      <td>...</td>\n",
       "      <td>...</td>\n",
       "      <td>...</td>\n",
       "      <td>...</td>\n",
       "      <td>...</td>\n",
       "      <td>...</td>\n",
       "      <td>...</td>\n",
       "      <td>...</td>\n",
       "      <td>...</td>\n",
       "    </tr>\n",
       "    <tr>\n",
       "      <th>2024-04-17</th>\n",
       "      <td>63831.847656</td>\n",
       "      <td>64486.363281</td>\n",
       "      <td>59768.585938</td>\n",
       "      <td>61276.691406</td>\n",
       "      <td>41915247049</td>\n",
       "      <td>0.200000</td>\n",
       "      <td>-0.091111</td>\n",
       "      <td>0.116667</td>\n",
       "      <td>63512.753906</td>\n",
       "      <td>1</td>\n",
       "      <td>...</td>\n",
       "      <td>65755.546875</td>\n",
       "      <td>66241.972656</td>\n",
       "      <td>64809.739258</td>\n",
       "      <td>57814.630859</td>\n",
       "      <td>67664.828125</td>\n",
       "      <td>73539.014793</td>\n",
       "      <td>61790.641457</td>\n",
       "      <td>1.663132e+12</td>\n",
       "      <td>67</td>\n",
       "      <td>Greed</td>\n",
       "    </tr>\n",
       "    <tr>\n",
       "      <th>2024-04-18</th>\n",
       "      <td>61275.316406</td>\n",
       "      <td>64125.687500</td>\n",
       "      <td>60833.480469</td>\n",
       "      <td>63512.753906</td>\n",
       "      <td>36006307335</td>\n",
       "      <td>0.200000</td>\n",
       "      <td>-0.091111</td>\n",
       "      <td>0.116667</td>\n",
       "      <td>63843.570312</td>\n",
       "      <td>1</td>\n",
       "      <td>...</td>\n",
       "      <td>65512.410156</td>\n",
       "      <td>66241.972656</td>\n",
       "      <td>65349.796875</td>\n",
       "      <td>57814.630859</td>\n",
       "      <td>67345.824414</td>\n",
       "      <td>73400.736239</td>\n",
       "      <td>61290.912589</td>\n",
       "      <td>1.699138e+12</td>\n",
       "      <td>57</td>\n",
       "      <td>Greed</td>\n",
       "    </tr>\n",
       "    <tr>\n",
       "      <th>2024-04-19</th>\n",
       "      <td>63510.750000</td>\n",
       "      <td>65481.597656</td>\n",
       "      <td>59651.390625</td>\n",
       "      <td>63843.570312</td>\n",
       "      <td>49920425401</td>\n",
       "      <td>0.200000</td>\n",
       "      <td>-0.091111</td>\n",
       "      <td>0.116667</td>\n",
       "      <td>64994.441406</td>\n",
       "      <td>1</td>\n",
       "      <td>...</td>\n",
       "      <td>65453.812500</td>\n",
       "      <td>66183.375000</td>\n",
       "      <td>65335.638672</td>\n",
       "      <td>58007.443359</td>\n",
       "      <td>67055.737695</td>\n",
       "      <td>73202.015386</td>\n",
       "      <td>60909.460004</td>\n",
       "      <td>1.749059e+12</td>\n",
       "      <td>66</td>\n",
       "      <td>Greed</td>\n",
       "    </tr>\n",
       "    <tr>\n",
       "      <th>2024-04-20</th>\n",
       "      <td>63851.101562</td>\n",
       "      <td>65442.457031</td>\n",
       "      <td>63172.402344</td>\n",
       "      <td>64994.441406</td>\n",
       "      <td>23097485495</td>\n",
       "      <td>0.233333</td>\n",
       "      <td>-0.122229</td>\n",
       "      <td>0.150000</td>\n",
       "      <td>64926.644531</td>\n",
       "      <td>0</td>\n",
       "      <td>...</td>\n",
       "      <td>65437.066406</td>\n",
       "      <td>66183.375000</td>\n",
       "      <td>66261.089844</td>\n",
       "      <td>58007.443359</td>\n",
       "      <td>66738.777344</td>\n",
       "      <td>72603.544754</td>\n",
       "      <td>60874.009933</td>\n",
       "      <td>1.772156e+12</td>\n",
       "      <td>66</td>\n",
       "      <td>Greed</td>\n",
       "    </tr>\n",
       "    <tr>\n",
       "      <th>2024-04-21</th>\n",
       "      <td>64992.816406</td>\n",
       "      <td>65723.242188</td>\n",
       "      <td>64277.722656</td>\n",
       "      <td>64926.644531</td>\n",
       "      <td>20506644853</td>\n",
       "      <td>0.300000</td>\n",
       "      <td>-0.155494</td>\n",
       "      <td>0.183333</td>\n",
       "      <td>65834.242188</td>\n",
       "      <td>1</td>\n",
       "      <td>...</td>\n",
       "      <td>63791.410156</td>\n",
       "      <td>66183.375000</td>\n",
       "      <td>66354.376953</td>\n",
       "      <td>58007.443359</td>\n",
       "      <td>66500.002148</td>\n",
       "      <td>72244.392454</td>\n",
       "      <td>60755.611843</td>\n",
       "      <td>1.751649e+12</td>\n",
       "      <td>72</td>\n",
       "      <td>Greed</td>\n",
       "    </tr>\n",
       "  </tbody>\n",
       "</table>\n",
       "<p>2269 rows × 36 columns</p>\n",
       "</div>"
      ],
      "text/plain": [
       "                    open          high           low         close   \n",
       "2018-02-01  10237.299805  10288.799805   8812.280273   9170.540039  \\\n",
       "2018-02-02   9142.280273   9142.280273   7796.490234   8830.750000   \n",
       "2018-02-03   8852.120117   9430.750000   8251.629883   9174.910156   \n",
       "2018-02-04   9175.700195   9334.870117   8031.220215   8277.009766   \n",
       "2018-02-05   8270.540039   8364.839844   6756.680176   6955.270020   \n",
       "...                  ...           ...           ...           ...   \n",
       "2024-04-17  63831.847656  64486.363281  59768.585938  61276.691406   \n",
       "2024-04-18  61275.316406  64125.687500  60833.480469  63512.753906   \n",
       "2024-04-19  63510.750000  65481.597656  59651.390625  63843.570312   \n",
       "2024-04-20  63851.101562  65442.457031  63172.402344  64994.441406   \n",
       "2024-04-21  64992.816406  65723.242188  64277.722656  64926.644531   \n",
       "\n",
       "                 volume  edit_count  sentiment  neg_sentiment      tomorrow   \n",
       "2018-02-01   9959400448    6.233333  -0.382591       0.590601   8830.750000  \\\n",
       "2018-02-02  12726899712    5.566667  -0.406722       0.601712   9174.910156   \n",
       "2018-02-03   7263790080    5.266667  -0.397372       0.597167   8277.009766   \n",
       "2018-02-04   7073549824    4.733333  -0.385527       0.592116   6955.270020   \n",
       "2018-02-05   9285289984    4.700000  -0.385761       0.592116   7754.000000   \n",
       "...                 ...         ...        ...            ...           ...   \n",
       "2024-04-17  41915247049    0.200000  -0.091111       0.116667  63512.753906   \n",
       "2024-04-18  36006307335    0.200000  -0.091111       0.116667  63843.570312   \n",
       "2024-04-19  49920425401    0.200000  -0.091111       0.116667  64994.441406   \n",
       "2024-04-20  23097485495    0.233333  -0.122229       0.150000  64926.644531   \n",
       "2024-04-21  20506644853    0.300000  -0.155494       0.183333  65834.242188   \n",
       "\n",
       "            target  ...    Tenkan-sen     Kijun-sen  Senkou Span A   \n",
       "2018-02-01       0  ...  10426.290039  13195.939941   15496.125000  \\\n",
       "2018-02-02       1  ...   9918.395020  12167.195312   15496.125000   \n",
       "2018-02-03       0  ...   9918.395020  11646.995117   15597.500000   \n",
       "2018-02-04       0  ...   9918.395020  11407.645020   15697.275146   \n",
       "2018-02-05       1  ...   9398.489990  10887.739990   15699.500000   \n",
       "...            ...  ...           ...           ...            ...   \n",
       "2024-04-17       1  ...  65755.546875  66241.972656   64809.739258   \n",
       "2024-04-18       1  ...  65512.410156  66241.972656   65349.796875   \n",
       "2024-04-19       1  ...  65453.812500  66183.375000   65335.638672   \n",
       "2024-04-20       0  ...  65437.066406  66183.375000   66261.089844   \n",
       "2024-04-21       1  ...  63791.410156  66183.375000   66354.376953   \n",
       "\n",
       "            Senkou Span B   Middle Band    Upper Band    Lower Band   \n",
       "2018-02-01   13632.790039  11591.202100  14132.400116   9050.004084  \\\n",
       "2018-02-02   13776.219971  11314.729590  13789.784903   8839.674277   \n",
       "2018-02-03   13776.219971  11084.875098  13450.506510   8719.243685   \n",
       "2018-02-04   13891.550049  10807.735596  13122.456240   8493.014951   \n",
       "2018-02-05   13925.854980  10580.974097  13438.911654   7723.036539   \n",
       "...                   ...           ...           ...           ...   \n",
       "2024-04-17   57814.630859  67664.828125  73539.014793  61790.641457   \n",
       "2024-04-18   57814.630859  67345.824414  73400.736239  61290.912589   \n",
       "2024-04-19   58007.443359  67055.737695  73202.015386  60909.460004   \n",
       "2024-04-20   58007.443359  66738.777344  72603.544754  60874.009933   \n",
       "2024-04-21   58007.443359  66500.002148  72244.392454  60755.611843   \n",
       "\n",
       "                     OBV  FGI_value  value_classification  \n",
       "2018-02-01  1.237985e+11         30                  Fear  \n",
       "2018-02-02  1.110716e+11         15          Extreme Fear  \n",
       "2018-02-03  1.183354e+11         40                  Fear  \n",
       "2018-02-04  1.112618e+11         24          Extreme Fear  \n",
       "2018-02-05  1.019765e+11         11          Extreme Fear  \n",
       "...                  ...        ...                   ...  \n",
       "2024-04-17  1.663132e+12         67                 Greed  \n",
       "2024-04-18  1.699138e+12         57                 Greed  \n",
       "2024-04-19  1.749059e+12         66                 Greed  \n",
       "2024-04-20  1.772156e+12         66                 Greed  \n",
       "2024-04-21  1.751649e+12         72                 Greed  \n",
       "\n",
       "[2269 rows x 36 columns]"
      ]
     },
     "execution_count": 3,
     "metadata": {},
     "output_type": "execute_result"
    }
   ],
   "source": [
    "btc_FGI"
   ]
  },
  {
   "cell_type": "code",
   "execution_count": 4,
   "id": "88604b84-38ed-4ace-a640-925a7f3eafff",
   "metadata": {
    "tags": []
   },
   "outputs": [
    {
     "name": "stdout",
     "output_type": "stream",
     "text": [
      "<class 'pandas.core.frame.DataFrame'>\n",
      "DatetimeIndex: 2269 entries, 2018-02-01 to 2024-04-21\n",
      "Data columns (total 36 columns):\n",
      " #   Column                Non-Null Count  Dtype  \n",
      "---  ------                --------------  -----  \n",
      " 0   open                  2269 non-null   float64\n",
      " 1   high                  2269 non-null   float64\n",
      " 2   low                   2269 non-null   float64\n",
      " 3   close                 2269 non-null   float64\n",
      " 4   volume                2269 non-null   int64  \n",
      " 5   edit_count            2269 non-null   float64\n",
      " 6   sentiment             2269 non-null   float64\n",
      " 7   neg_sentiment         2269 non-null   float64\n",
      " 8   tomorrow              2269 non-null   float64\n",
      " 9   target                2269 non-null   int64  \n",
      " 10  RSI                   2269 non-null   float64\n",
      " 11  Stoch_RSI             2269 non-null   float64\n",
      " 12  SMA(9)                2269 non-null   float64\n",
      " 13  SMA(14)               2269 non-null   float64\n",
      " 14  EMA(7)                2269 non-null   float64\n",
      " 15  EMA(25)               2269 non-null   float64\n",
      " 16  EMA(99)               2269 non-null   float64\n",
      " 17  MACD                  2269 non-null   float64\n",
      " 18  Signal Line           2269 non-null   float64\n",
      " 19  MACD Histogram        2269 non-null   float64\n",
      " 20  fib23.6%              2269 non-null   float64\n",
      " 21  fib38.2%              2269 non-null   float64\n",
      " 22  fib50.0%              2269 non-null   float64\n",
      " 23  fib61.8%              2269 non-null   float64\n",
      " 24  fib78.6%              2269 non-null   float64\n",
      " 25  fib100.0%             2269 non-null   float64\n",
      " 26  Tenkan-sen            2269 non-null   float64\n",
      " 27  Kijun-sen             2269 non-null   float64\n",
      " 28  Senkou Span A         2269 non-null   float64\n",
      " 29  Senkou Span B         2269 non-null   float64\n",
      " 30  Middle Band           2269 non-null   float64\n",
      " 31  Upper Band            2269 non-null   float64\n",
      " 32  Lower Band            2269 non-null   float64\n",
      " 33  OBV                   2269 non-null   float64\n",
      " 34  FGI_value             2269 non-null   int64  \n",
      " 35  value_classification  2269 non-null   object \n",
      "dtypes: float64(32), int64(3), object(1)\n",
      "memory usage: 655.9+ KB\n"
     ]
    }
   ],
   "source": [
    "btc_FGI.info()"
   ]
  },
  {
   "cell_type": "markdown",
   "id": "6d547a2b-958a-4bed-af8e-e06e8b203e26",
   "metadata": {},
   "source": [
    "## Random Forest"
   ]
  },
  {
   "cell_type": "code",
   "execution_count": 5,
   "id": "e23c2c3b-5674-42ab-bad6-8a1d8d14292d",
   "metadata": {
    "tags": []
   },
   "outputs": [
    {
     "data": {
      "text/html": [
       "<style>#sk-container-id-1 {color: black;background-color: white;}#sk-container-id-1 pre{padding: 0;}#sk-container-id-1 div.sk-toggleable {background-color: white;}#sk-container-id-1 label.sk-toggleable__label {cursor: pointer;display: block;width: 100%;margin-bottom: 0;padding: 0.3em;box-sizing: border-box;text-align: center;}#sk-container-id-1 label.sk-toggleable__label-arrow:before {content: \"▸\";float: left;margin-right: 0.25em;color: #696969;}#sk-container-id-1 label.sk-toggleable__label-arrow:hover:before {color: black;}#sk-container-id-1 div.sk-estimator:hover label.sk-toggleable__label-arrow:before {color: black;}#sk-container-id-1 div.sk-toggleable__content {max-height: 0;max-width: 0;overflow: hidden;text-align: left;background-color: #f0f8ff;}#sk-container-id-1 div.sk-toggleable__content pre {margin: 0.2em;color: black;border-radius: 0.25em;background-color: #f0f8ff;}#sk-container-id-1 input.sk-toggleable__control:checked~div.sk-toggleable__content {max-height: 200px;max-width: 100%;overflow: auto;}#sk-container-id-1 input.sk-toggleable__control:checked~label.sk-toggleable__label-arrow:before {content: \"▾\";}#sk-container-id-1 div.sk-estimator input.sk-toggleable__control:checked~label.sk-toggleable__label {background-color: #d4ebff;}#sk-container-id-1 div.sk-label input.sk-toggleable__control:checked~label.sk-toggleable__label {background-color: #d4ebff;}#sk-container-id-1 input.sk-hidden--visually {border: 0;clip: rect(1px 1px 1px 1px);clip: rect(1px, 1px, 1px, 1px);height: 1px;margin: -1px;overflow: hidden;padding: 0;position: absolute;width: 1px;}#sk-container-id-1 div.sk-estimator {font-family: monospace;background-color: #f0f8ff;border: 1px dotted black;border-radius: 0.25em;box-sizing: border-box;margin-bottom: 0.5em;}#sk-container-id-1 div.sk-estimator:hover {background-color: #d4ebff;}#sk-container-id-1 div.sk-parallel-item::after {content: \"\";width: 100%;border-bottom: 1px solid gray;flex-grow: 1;}#sk-container-id-1 div.sk-label:hover label.sk-toggleable__label {background-color: #d4ebff;}#sk-container-id-1 div.sk-serial::before {content: \"\";position: absolute;border-left: 1px solid gray;box-sizing: border-box;top: 0;bottom: 0;left: 50%;z-index: 0;}#sk-container-id-1 div.sk-serial {display: flex;flex-direction: column;align-items: center;background-color: white;padding-right: 0.2em;padding-left: 0.2em;position: relative;}#sk-container-id-1 div.sk-item {position: relative;z-index: 1;}#sk-container-id-1 div.sk-parallel {display: flex;align-items: stretch;justify-content: center;background-color: white;position: relative;}#sk-container-id-1 div.sk-item::before, #sk-container-id-1 div.sk-parallel-item::before {content: \"\";position: absolute;border-left: 1px solid gray;box-sizing: border-box;top: 0;bottom: 0;left: 50%;z-index: -1;}#sk-container-id-1 div.sk-parallel-item {display: flex;flex-direction: column;z-index: 1;position: relative;background-color: white;}#sk-container-id-1 div.sk-parallel-item:first-child::after {align-self: flex-end;width: 50%;}#sk-container-id-1 div.sk-parallel-item:last-child::after {align-self: flex-start;width: 50%;}#sk-container-id-1 div.sk-parallel-item:only-child::after {width: 0;}#sk-container-id-1 div.sk-dashed-wrapped {border: 1px dashed gray;margin: 0 0.4em 0.5em 0.4em;box-sizing: border-box;padding-bottom: 0.4em;background-color: white;}#sk-container-id-1 div.sk-label label {font-family: monospace;font-weight: bold;display: inline-block;line-height: 1.2em;}#sk-container-id-1 div.sk-label-container {text-align: center;}#sk-container-id-1 div.sk-container {/* jupyter's `normalize.less` sets `[hidden] { display: none; }` but bootstrap.min.css set `[hidden] { display: none !important; }` so we also need the `!important` here to be able to override the default hidden behavior on the sphinx rendered scikit-learn.org. See: https://github.com/scikit-learn/scikit-learn/issues/21755 */display: inline-block !important;position: relative;}#sk-container-id-1 div.sk-text-repr-fallback {display: none;}</style><div id=\"sk-container-id-1\" class=\"sk-top-container\"><div class=\"sk-text-repr-fallback\"><pre>RandomForestClassifier(min_samples_split=50, random_state=1)</pre><b>In a Jupyter environment, please rerun this cell to show the HTML representation or trust the notebook. <br />On GitHub, the HTML representation is unable to render, please try loading this page with nbviewer.org.</b></div><div class=\"sk-container\" hidden><div class=\"sk-item\"><div class=\"sk-estimator sk-toggleable\"><input class=\"sk-toggleable__control sk-hidden--visually\" id=\"sk-estimator-id-1\" type=\"checkbox\" checked><label for=\"sk-estimator-id-1\" class=\"sk-toggleable__label sk-toggleable__label-arrow\">RandomForestClassifier</label><div class=\"sk-toggleable__content\"><pre>RandomForestClassifier(min_samples_split=50, random_state=1)</pre></div></div></div></div></div>"
      ],
      "text/plain": [
       "RandomForestClassifier(min_samples_split=50, random_state=1)"
      ]
     },
     "execution_count": 5,
     "metadata": {},
     "output_type": "execute_result"
    }
   ],
   "source": [
    "model = RandomForestClassifier(n_estimators=100, min_samples_split=50, random_state=1)\n",
    "\n",
    "train = btc_FGI.iloc[:-200]\n",
    "test = btc_FGI[-200:]\n",
    "\n",
    "predictors = [\"close\", \"volume\", \"open\", \"high\", \"low\", \"sentiment\", \"neg_sentiment\", \"RSI\", \"EMA(7)\", \"EMA(25)\", \"EMA(99)\", \"MACD\",\n",
    "              \"fib23.6%\", \"fib38.2%\", \"fib50.0%\", \"fib61.8%\", \"fib78.6%\", \"fib100.0%\", \"FGI_value\"]\n",
    "model.fit(train[predictors], train[\"target\"])"
   ]
  },
  {
   "cell_type": "code",
   "execution_count": 8,
   "id": "6bc54183-1f0a-4066-ab07-c23ca003db98",
   "metadata": {
    "tags": []
   },
   "outputs": [
    {
     "name": "stdout",
     "output_type": "stream",
     "text": [
      "Precision: 0.5434782608695652\n",
      "Accuracy: 0.455\n"
     ]
    }
   ],
   "source": [
    "# Precision of the test set for the first model\n",
    "preds_test = model.predict(test[predictors])\n",
    "preds_test = pd.Series(preds_test, index=test.index)\n",
    "precision_test = precision_score(test[\"target\"], preds_test)\n",
    "accuracy_test = accuracy_score(test[\"target\"], preds_test)\n",
    "print(\"Precision:\", precision_test)\n",
    "print(\"Accuracy:\", accuracy_test)"
   ]
  },
  {
   "cell_type": "code",
   "execution_count": 10,
   "id": "d8792527-8b2f-4433-8ee4-5492b7468a6e",
   "metadata": {
    "tags": []
   },
   "outputs": [
    {
     "name": "stdout",
     "output_type": "stream",
     "text": [
      "Precision: 0.8105726872246696\n",
      "Accuracy: 0.8303528274528758\n"
     ]
    }
   ],
   "source": [
    "# Precision of the train set for the first model\n",
    "preds_train = model.predict(train[predictors])\n",
    "preds_train = pd.Series(preds_train, index=train.index)\n",
    "precision_train = precision_score(train[\"target\"], preds_train)\n",
    "accuracy_train = accuracy_score(train[\"target\"], preds_train)\n",
    "print(\"Precision:\", precision_train)\n",
    "print(\"Accuracy:\", accuracy_train)"
   ]
  },
  {
   "cell_type": "code",
   "execution_count": 11,
   "id": "051bfc42-b4aa-482a-9ae3-5690cb6c94bf",
   "metadata": {
    "tags": []
   },
   "outputs": [
    {
     "data": {
      "text/html": [
       "<style>#sk-container-id-2 {color: black;background-color: white;}#sk-container-id-2 pre{padding: 0;}#sk-container-id-2 div.sk-toggleable {background-color: white;}#sk-container-id-2 label.sk-toggleable__label {cursor: pointer;display: block;width: 100%;margin-bottom: 0;padding: 0.3em;box-sizing: border-box;text-align: center;}#sk-container-id-2 label.sk-toggleable__label-arrow:before {content: \"▸\";float: left;margin-right: 0.25em;color: #696969;}#sk-container-id-2 label.sk-toggleable__label-arrow:hover:before {color: black;}#sk-container-id-2 div.sk-estimator:hover label.sk-toggleable__label-arrow:before {color: black;}#sk-container-id-2 div.sk-toggleable__content {max-height: 0;max-width: 0;overflow: hidden;text-align: left;background-color: #f0f8ff;}#sk-container-id-2 div.sk-toggleable__content pre {margin: 0.2em;color: black;border-radius: 0.25em;background-color: #f0f8ff;}#sk-container-id-2 input.sk-toggleable__control:checked~div.sk-toggleable__content {max-height: 200px;max-width: 100%;overflow: auto;}#sk-container-id-2 input.sk-toggleable__control:checked~label.sk-toggleable__label-arrow:before {content: \"▾\";}#sk-container-id-2 div.sk-estimator input.sk-toggleable__control:checked~label.sk-toggleable__label {background-color: #d4ebff;}#sk-container-id-2 div.sk-label input.sk-toggleable__control:checked~label.sk-toggleable__label {background-color: #d4ebff;}#sk-container-id-2 input.sk-hidden--visually {border: 0;clip: rect(1px 1px 1px 1px);clip: rect(1px, 1px, 1px, 1px);height: 1px;margin: -1px;overflow: hidden;padding: 0;position: absolute;width: 1px;}#sk-container-id-2 div.sk-estimator {font-family: monospace;background-color: #f0f8ff;border: 1px dotted black;border-radius: 0.25em;box-sizing: border-box;margin-bottom: 0.5em;}#sk-container-id-2 div.sk-estimator:hover {background-color: #d4ebff;}#sk-container-id-2 div.sk-parallel-item::after {content: \"\";width: 100%;border-bottom: 1px solid gray;flex-grow: 1;}#sk-container-id-2 div.sk-label:hover label.sk-toggleable__label {background-color: #d4ebff;}#sk-container-id-2 div.sk-serial::before {content: \"\";position: absolute;border-left: 1px solid gray;box-sizing: border-box;top: 0;bottom: 0;left: 50%;z-index: 0;}#sk-container-id-2 div.sk-serial {display: flex;flex-direction: column;align-items: center;background-color: white;padding-right: 0.2em;padding-left: 0.2em;position: relative;}#sk-container-id-2 div.sk-item {position: relative;z-index: 1;}#sk-container-id-2 div.sk-parallel {display: flex;align-items: stretch;justify-content: center;background-color: white;position: relative;}#sk-container-id-2 div.sk-item::before, #sk-container-id-2 div.sk-parallel-item::before {content: \"\";position: absolute;border-left: 1px solid gray;box-sizing: border-box;top: 0;bottom: 0;left: 50%;z-index: -1;}#sk-container-id-2 div.sk-parallel-item {display: flex;flex-direction: column;z-index: 1;position: relative;background-color: white;}#sk-container-id-2 div.sk-parallel-item:first-child::after {align-self: flex-end;width: 50%;}#sk-container-id-2 div.sk-parallel-item:last-child::after {align-self: flex-start;width: 50%;}#sk-container-id-2 div.sk-parallel-item:only-child::after {width: 0;}#sk-container-id-2 div.sk-dashed-wrapped {border: 1px dashed gray;margin: 0 0.4em 0.5em 0.4em;box-sizing: border-box;padding-bottom: 0.4em;background-color: white;}#sk-container-id-2 div.sk-label label {font-family: monospace;font-weight: bold;display: inline-block;line-height: 1.2em;}#sk-container-id-2 div.sk-label-container {text-align: center;}#sk-container-id-2 div.sk-container {/* jupyter's `normalize.less` sets `[hidden] { display: none; }` but bootstrap.min.css set `[hidden] { display: none !important; }` so we also need the `!important` here to be able to override the default hidden behavior on the sphinx rendered scikit-learn.org. See: https://github.com/scikit-learn/scikit-learn/issues/21755 */display: inline-block !important;position: relative;}#sk-container-id-2 div.sk-text-repr-fallback {display: none;}</style><div id=\"sk-container-id-2\" class=\"sk-top-container\"><div class=\"sk-text-repr-fallback\"><pre>RandomForestClassifier(min_samples_split=50, random_state=1)</pre><b>In a Jupyter environment, please rerun this cell to show the HTML representation or trust the notebook. <br />On GitHub, the HTML representation is unable to render, please try loading this page with nbviewer.org.</b></div><div class=\"sk-container\" hidden><div class=\"sk-item\"><div class=\"sk-estimator sk-toggleable\"><input class=\"sk-toggleable__control sk-hidden--visually\" id=\"sk-estimator-id-2\" type=\"checkbox\" checked><label for=\"sk-estimator-id-2\" class=\"sk-toggleable__label sk-toggleable__label-arrow\">RandomForestClassifier</label><div class=\"sk-toggleable__content\"><pre>RandomForestClassifier(min_samples_split=50, random_state=1)</pre></div></div></div></div></div>"
      ],
      "text/plain": [
       "RandomForestClassifier(min_samples_split=50, random_state=1)"
      ]
     },
     "execution_count": 11,
     "metadata": {},
     "output_type": "execute_result"
    }
   ],
   "source": [
    "model1 = RandomForestClassifier(n_estimators=100, min_samples_split=50, random_state=1)\n",
    "\n",
    "train1 = btc_FGI.iloc[:-200]\n",
    "test1 = btc_FGI[-200:]\n",
    "\n",
    "predictors_allFeatures = [\"close\", \"volume\", \"open\", \"high\", \"low\", \"sentiment\", \"neg_sentiment\", \"RSI\", \"Stoch_RSI\", \"SMA(9)\", \"SMA(14)\", \"EMA(7)\", \"EMA(25)\", \"EMA(99)\",\n",
    "                          \"MACD\", \"Signal Line\", \"MACD Histogram\", \"fib23.6%\", \"fib38.2%\", \"fib50.0%\", \"fib61.8%\", \"fib78.6%\", \"fib100.0%\", \"Tenkan-sen\", \"Kijun-sen\",\n",
    "                          \"Senkou Span A\", \"Senkou Span B\", \"Middle Band\", \"Upper Band\", \"Lower Band\", \"FGI_value\"]\n",
    "model1.fit(train1[predictors_allFeatures], train1[\"target\"])"
   ]
  },
  {
   "cell_type": "code",
   "execution_count": 12,
   "id": "c1db80e0-5fb6-4296-8ef1-e6d906d912a6",
   "metadata": {
    "tags": []
   },
   "outputs": [
    {
     "name": "stdout",
     "output_type": "stream",
     "text": [
      "Precision: 0.6056338028169014\n",
      "Accuracy: 0.51\n"
     ]
    }
   ],
   "source": [
    "# Precision of the test set for the second model\n",
    "preds_test1 = model1.predict(test1[predictors_allFeatures])\n",
    "preds_test1 = pd.Series(preds_test1, index=test1.index)\n",
    "precision_test1 = precision_score(test1[\"target\"], preds_test1)\n",
    "accuracy_test1 = accuracy_score(test1[\"target\"], preds_test1)\n",
    "print(\"Precision:\", precision_test1)\n",
    "print(\"Accuracy:\", accuracy_test1)"
   ]
  },
  {
   "cell_type": "code",
   "execution_count": 14,
   "id": "0a7a7b8a-5c37-471f-9dec-b24541166fcd",
   "metadata": {
    "tags": []
   },
   "outputs": [
    {
     "name": "stdout",
     "output_type": "stream",
     "text": [
      "Precision: 0.8113879003558719\n",
      "Accuracy: 0.8279362010633156\n"
     ]
    }
   ],
   "source": [
    "# Precision of the train set for the first model\n",
    "preds_train1 = model1.predict(train1[predictors_allFeatures])\n",
    "preds_train1 = pd.Series(preds_train1, index=train1.index)\n",
    "precision_train1 = precision_score(train1[\"target\"], preds_train1)\n",
    "accuracy_train1 = accuracy_score(train1[\"target\"], preds_train1)\n",
    "print(\"Precision:\", precision_train1)\n",
    "print(\"Accuracy:\", accuracy_train1)"
   ]
  },
  {
   "cell_type": "code",
   "execution_count": 15,
   "id": "6390c079-1b6d-49fd-9939-30a36121eeee",
   "metadata": {
    "tags": []
   },
   "outputs": [
    {
     "data": {
      "text/html": [
       "<style>#sk-container-id-4 {color: black;background-color: white;}#sk-container-id-4 pre{padding: 0;}#sk-container-id-4 div.sk-toggleable {background-color: white;}#sk-container-id-4 label.sk-toggleable__label {cursor: pointer;display: block;width: 100%;margin-bottom: 0;padding: 0.3em;box-sizing: border-box;text-align: center;}#sk-container-id-4 label.sk-toggleable__label-arrow:before {content: \"▸\";float: left;margin-right: 0.25em;color: #696969;}#sk-container-id-4 label.sk-toggleable__label-arrow:hover:before {color: black;}#sk-container-id-4 div.sk-estimator:hover label.sk-toggleable__label-arrow:before {color: black;}#sk-container-id-4 div.sk-toggleable__content {max-height: 0;max-width: 0;overflow: hidden;text-align: left;background-color: #f0f8ff;}#sk-container-id-4 div.sk-toggleable__content pre {margin: 0.2em;color: black;border-radius: 0.25em;background-color: #f0f8ff;}#sk-container-id-4 input.sk-toggleable__control:checked~div.sk-toggleable__content {max-height: 200px;max-width: 100%;overflow: auto;}#sk-container-id-4 input.sk-toggleable__control:checked~label.sk-toggleable__label-arrow:before {content: \"▾\";}#sk-container-id-4 div.sk-estimator input.sk-toggleable__control:checked~label.sk-toggleable__label {background-color: #d4ebff;}#sk-container-id-4 div.sk-label input.sk-toggleable__control:checked~label.sk-toggleable__label {background-color: #d4ebff;}#sk-container-id-4 input.sk-hidden--visually {border: 0;clip: rect(1px 1px 1px 1px);clip: rect(1px, 1px, 1px, 1px);height: 1px;margin: -1px;overflow: hidden;padding: 0;position: absolute;width: 1px;}#sk-container-id-4 div.sk-estimator {font-family: monospace;background-color: #f0f8ff;border: 1px dotted black;border-radius: 0.25em;box-sizing: border-box;margin-bottom: 0.5em;}#sk-container-id-4 div.sk-estimator:hover {background-color: #d4ebff;}#sk-container-id-4 div.sk-parallel-item::after {content: \"\";width: 100%;border-bottom: 1px solid gray;flex-grow: 1;}#sk-container-id-4 div.sk-label:hover label.sk-toggleable__label {background-color: #d4ebff;}#sk-container-id-4 div.sk-serial::before {content: \"\";position: absolute;border-left: 1px solid gray;box-sizing: border-box;top: 0;bottom: 0;left: 50%;z-index: 0;}#sk-container-id-4 div.sk-serial {display: flex;flex-direction: column;align-items: center;background-color: white;padding-right: 0.2em;padding-left: 0.2em;position: relative;}#sk-container-id-4 div.sk-item {position: relative;z-index: 1;}#sk-container-id-4 div.sk-parallel {display: flex;align-items: stretch;justify-content: center;background-color: white;position: relative;}#sk-container-id-4 div.sk-item::before, #sk-container-id-4 div.sk-parallel-item::before {content: \"\";position: absolute;border-left: 1px solid gray;box-sizing: border-box;top: 0;bottom: 0;left: 50%;z-index: -1;}#sk-container-id-4 div.sk-parallel-item {display: flex;flex-direction: column;z-index: 1;position: relative;background-color: white;}#sk-container-id-4 div.sk-parallel-item:first-child::after {align-self: flex-end;width: 50%;}#sk-container-id-4 div.sk-parallel-item:last-child::after {align-self: flex-start;width: 50%;}#sk-container-id-4 div.sk-parallel-item:only-child::after {width: 0;}#sk-container-id-4 div.sk-dashed-wrapped {border: 1px dashed gray;margin: 0 0.4em 0.5em 0.4em;box-sizing: border-box;padding-bottom: 0.4em;background-color: white;}#sk-container-id-4 div.sk-label label {font-family: monospace;font-weight: bold;display: inline-block;line-height: 1.2em;}#sk-container-id-4 div.sk-label-container {text-align: center;}#sk-container-id-4 div.sk-container {/* jupyter's `normalize.less` sets `[hidden] { display: none; }` but bootstrap.min.css set `[hidden] { display: none !important; }` so we also need the `!important` here to be able to override the default hidden behavior on the sphinx rendered scikit-learn.org. See: https://github.com/scikit-learn/scikit-learn/issues/21755 */display: inline-block !important;position: relative;}#sk-container-id-4 div.sk-text-repr-fallback {display: none;}</style><div id=\"sk-container-id-4\" class=\"sk-top-container\"><div class=\"sk-text-repr-fallback\"><pre>RandomForestClassifier(min_samples_split=50, random_state=1)</pre><b>In a Jupyter environment, please rerun this cell to show the HTML representation or trust the notebook. <br />On GitHub, the HTML representation is unable to render, please try loading this page with nbviewer.org.</b></div><div class=\"sk-container\" hidden><div class=\"sk-item\"><div class=\"sk-estimator sk-toggleable\"><input class=\"sk-toggleable__control sk-hidden--visually\" id=\"sk-estimator-id-4\" type=\"checkbox\" checked><label for=\"sk-estimator-id-4\" class=\"sk-toggleable__label sk-toggleable__label-arrow\">RandomForestClassifier</label><div class=\"sk-toggleable__content\"><pre>RandomForestClassifier(min_samples_split=50, random_state=1)</pre></div></div></div></div></div>"
      ],
      "text/plain": [
       "RandomForestClassifier(min_samples_split=50, random_state=1)"
      ]
     },
     "execution_count": 15,
     "metadata": {},
     "output_type": "execute_result"
    }
   ],
   "source": [
    "model2 = RandomForestClassifier(n_estimators=100, min_samples_split=50, random_state=1)\n",
    "\n",
    "train2 = btc_FGI.iloc[:-200]\n",
    "test2 = btc_FGI[-200:]\n",
    "\n",
    "predictors_notallFeatures = [\"close\", \"volume\", \"open\", \"high\", \"low\", \"sentiment\", \"neg_sentiment\", \"RSI\", \"Stoch_RSI\", \"SMA(9)\", \"SMA(14)\", \"EMA(7)\", \"EMA(25)\", \"EMA(99)\",\n",
    "                          \"MACD\", \"fib23.6%\", \"fib38.2%\", \"fib50.0%\", \"fib61.8%\", \"fib78.6%\", \"fib100.0%\", \"FGI_value\"]\n",
    "model2.fit(train2[predictors_notallFeatures], train2[\"target\"])"
   ]
  },
  {
   "cell_type": "code",
   "execution_count": 18,
   "id": "cb210ab1-a7e2-4b02-8ae1-0974ff45da38",
   "metadata": {
    "tags": []
   },
   "outputs": [
    {
     "name": "stdout",
     "output_type": "stream",
     "text": [
      "Precision: 0.65\n",
      "Accuracy: 0.495\n"
     ]
    }
   ],
   "source": [
    "# Precision of the test set for the third model\n",
    "preds_test2 = model2.predict(test2[predictors_notallFeatures])\n",
    "preds_test2 = pd.Series(preds_test2, index=test2.index)\n",
    "precision_test2 = precision_score(test2[\"target\"], preds_test2)\n",
    "accuracy_test2 = accuracy_score(test2[\"target\"], preds_test2)\n",
    "print(\"Precision:\", precision_test2)\n",
    "print(\"Accuracy:\", accuracy_test2)"
   ]
  },
  {
   "cell_type": "code",
   "execution_count": 19,
   "id": "56ae7175-40dd-420f-9341-3a1b930b7863",
   "metadata": {
    "tags": []
   },
   "outputs": [
    {
     "name": "stdout",
     "output_type": "stream",
     "text": [
      "Precision: 0.8295964125560538\n",
      "Accuracy: 0.8448525857902368\n"
     ]
    }
   ],
   "source": [
    "# Precision of the test set for the third model\n",
    "preds_train2 = model2.predict(train2[predictors_notallFeatures])\n",
    "preds_train2 = pd.Series(preds_train2, index=train2.index)\n",
    "precision_train2 = precision_score(train2[\"target\"], preds_train2)\n",
    "accuracy_train2 = accuracy_score(train2[\"target\"], preds_train2)\n",
    "print(\"Precision:\", precision_train2)\n",
    "print(\"Accuracy:\", accuracy_train2)"
   ]
  },
  {
   "cell_type": "code",
   "execution_count": 20,
   "id": "ecb737bf-4ea3-4c77-9472-b22030cd609a",
   "metadata": {
    "tags": []
   },
   "outputs": [
    {
     "data": {
      "text/html": [
       "<style>#sk-container-id-5 {color: black;background-color: white;}#sk-container-id-5 pre{padding: 0;}#sk-container-id-5 div.sk-toggleable {background-color: white;}#sk-container-id-5 label.sk-toggleable__label {cursor: pointer;display: block;width: 100%;margin-bottom: 0;padding: 0.3em;box-sizing: border-box;text-align: center;}#sk-container-id-5 label.sk-toggleable__label-arrow:before {content: \"▸\";float: left;margin-right: 0.25em;color: #696969;}#sk-container-id-5 label.sk-toggleable__label-arrow:hover:before {color: black;}#sk-container-id-5 div.sk-estimator:hover label.sk-toggleable__label-arrow:before {color: black;}#sk-container-id-5 div.sk-toggleable__content {max-height: 0;max-width: 0;overflow: hidden;text-align: left;background-color: #f0f8ff;}#sk-container-id-5 div.sk-toggleable__content pre {margin: 0.2em;color: black;border-radius: 0.25em;background-color: #f0f8ff;}#sk-container-id-5 input.sk-toggleable__control:checked~div.sk-toggleable__content {max-height: 200px;max-width: 100%;overflow: auto;}#sk-container-id-5 input.sk-toggleable__control:checked~label.sk-toggleable__label-arrow:before {content: \"▾\";}#sk-container-id-5 div.sk-estimator input.sk-toggleable__control:checked~label.sk-toggleable__label {background-color: #d4ebff;}#sk-container-id-5 div.sk-label input.sk-toggleable__control:checked~label.sk-toggleable__label {background-color: #d4ebff;}#sk-container-id-5 input.sk-hidden--visually {border: 0;clip: rect(1px 1px 1px 1px);clip: rect(1px, 1px, 1px, 1px);height: 1px;margin: -1px;overflow: hidden;padding: 0;position: absolute;width: 1px;}#sk-container-id-5 div.sk-estimator {font-family: monospace;background-color: #f0f8ff;border: 1px dotted black;border-radius: 0.25em;box-sizing: border-box;margin-bottom: 0.5em;}#sk-container-id-5 div.sk-estimator:hover {background-color: #d4ebff;}#sk-container-id-5 div.sk-parallel-item::after {content: \"\";width: 100%;border-bottom: 1px solid gray;flex-grow: 1;}#sk-container-id-5 div.sk-label:hover label.sk-toggleable__label {background-color: #d4ebff;}#sk-container-id-5 div.sk-serial::before {content: \"\";position: absolute;border-left: 1px solid gray;box-sizing: border-box;top: 0;bottom: 0;left: 50%;z-index: 0;}#sk-container-id-5 div.sk-serial {display: flex;flex-direction: column;align-items: center;background-color: white;padding-right: 0.2em;padding-left: 0.2em;position: relative;}#sk-container-id-5 div.sk-item {position: relative;z-index: 1;}#sk-container-id-5 div.sk-parallel {display: flex;align-items: stretch;justify-content: center;background-color: white;position: relative;}#sk-container-id-5 div.sk-item::before, #sk-container-id-5 div.sk-parallel-item::before {content: \"\";position: absolute;border-left: 1px solid gray;box-sizing: border-box;top: 0;bottom: 0;left: 50%;z-index: -1;}#sk-container-id-5 div.sk-parallel-item {display: flex;flex-direction: column;z-index: 1;position: relative;background-color: white;}#sk-container-id-5 div.sk-parallel-item:first-child::after {align-self: flex-end;width: 50%;}#sk-container-id-5 div.sk-parallel-item:last-child::after {align-self: flex-start;width: 50%;}#sk-container-id-5 div.sk-parallel-item:only-child::after {width: 0;}#sk-container-id-5 div.sk-dashed-wrapped {border: 1px dashed gray;margin: 0 0.4em 0.5em 0.4em;box-sizing: border-box;padding-bottom: 0.4em;background-color: white;}#sk-container-id-5 div.sk-label label {font-family: monospace;font-weight: bold;display: inline-block;line-height: 1.2em;}#sk-container-id-5 div.sk-label-container {text-align: center;}#sk-container-id-5 div.sk-container {/* jupyter's `normalize.less` sets `[hidden] { display: none; }` but bootstrap.min.css set `[hidden] { display: none !important; }` so we also need the `!important` here to be able to override the default hidden behavior on the sphinx rendered scikit-learn.org. See: https://github.com/scikit-learn/scikit-learn/issues/21755 */display: inline-block !important;position: relative;}#sk-container-id-5 div.sk-text-repr-fallback {display: none;}</style><div id=\"sk-container-id-5\" class=\"sk-top-container\"><div class=\"sk-text-repr-fallback\"><pre>RandomForestClassifier(min_samples_split=50, random_state=1)</pre><b>In a Jupyter environment, please rerun this cell to show the HTML representation or trust the notebook. <br />On GitHub, the HTML representation is unable to render, please try loading this page with nbviewer.org.</b></div><div class=\"sk-container\" hidden><div class=\"sk-item\"><div class=\"sk-estimator sk-toggleable\"><input class=\"sk-toggleable__control sk-hidden--visually\" id=\"sk-estimator-id-5\" type=\"checkbox\" checked><label for=\"sk-estimator-id-5\" class=\"sk-toggleable__label sk-toggleable__label-arrow\">RandomForestClassifier</label><div class=\"sk-toggleable__content\"><pre>RandomForestClassifier(min_samples_split=50, random_state=1)</pre></div></div></div></div></div>"
      ],
      "text/plain": [
       "RandomForestClassifier(min_samples_split=50, random_state=1)"
      ]
     },
     "execution_count": 20,
     "metadata": {},
     "output_type": "execute_result"
    }
   ],
   "source": [
    "model3 = RandomForestClassifier(n_estimators=100, min_samples_split=50, random_state=1)\n",
    "\n",
    "train3 = btc_FGI.iloc[:-200]\n",
    "test3 = btc_FGI[-200:]\n",
    "\n",
    "predictors_withoutAddedFeatures = [\"close\", \"volume\", \"open\", \"high\", \"low\", \"sentiment\", \"neg_sentiment\"]\n",
    "model3.fit(train3[predictors_withoutAddedFeatures], train3[\"target\"])"
   ]
  },
  {
   "cell_type": "code",
   "execution_count": 21,
   "id": "a9ba99bc-94cd-40dc-9b10-0bf8909fba3d",
   "metadata": {
    "tags": []
   },
   "outputs": [
    {
     "name": "stdout",
     "output_type": "stream",
     "text": [
      "Precision: 0.47368421052631576\n",
      "Accuracy: 0.425\n"
     ]
    }
   ],
   "source": [
    "# Precision of the test set for the fourth model\n",
    "preds_test3 = model3.predict(test3[predictors_withoutAddedFeatures])\n",
    "preds_test3 = pd.Series(preds_test3, index=test3.index)\n",
    "precision_test3 = precision_score(test3[\"target\"], preds_test3)\n",
    "accuracy_test3 = accuracy_score(test3[\"target\"], preds_test3)\n",
    "print(\"Precision:\", precision_test3)\n",
    "print(\"Accuracy:\", accuracy_test3)"
   ]
  },
  {
   "cell_type": "code",
   "execution_count": null,
   "id": "643f1599-8fb9-49ff-83f4-949cb491e794",
   "metadata": {},
   "outputs": [],
   "source": []
  }
 ],
 "metadata": {
  "kernelspec": {
   "display_name": "Python 3 (ipykernel)",
   "language": "python",
   "name": "python3"
  },
  "language_info": {
   "codemirror_mode": {
    "name": "ipython",
    "version": 3
   },
   "file_extension": ".py",
   "mimetype": "text/x-python",
   "name": "python",
   "nbconvert_exporter": "python",
   "pygments_lexer": "ipython3",
   "version": "3.11.3"
  }
 },
 "nbformat": 4,
 "nbformat_minor": 5
}
